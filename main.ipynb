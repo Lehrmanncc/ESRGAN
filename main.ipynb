{
 "cells": [
  {
   "cell_type": "code",
   "execution_count": 1,
   "outputs": [],
   "source": [
    "import os.path\n",
    "\n",
    "from dataset.datasets import DIV2KDataset"
   ],
   "metadata": {
    "collapsed": false,
    "pycharm": {
     "name": "#%%\n"
    }
   }
  },
  {
   "cell_type": "code",
   "execution_count": 2,
   "outputs": [],
   "source": [
    "from model.esrgan import RRDB_net"
   ],
   "metadata": {
    "collapsed": false,
    "pycharm": {
     "name": "#%%\n"
    }
   }
  },
  {
   "cell_type": "code",
   "execution_count": 3,
   "outputs": [],
   "source": [
    "from torchvision import transforms\n",
    "from torch.utils.data import DataLoader"
   ],
   "metadata": {
    "collapsed": false,
    "pycharm": {
     "name": "#%%\n"
    }
   }
  },
  {
   "cell_type": "code",
   "execution_count": 4,
   "outputs": [],
   "source": [
    "rrdb_net = RRDB_net()"
   ],
   "metadata": {
    "collapsed": false,
    "pycharm": {
     "name": "#%%\n"
    }
   }
  },
  {
   "cell_type": "code",
   "execution_count": 5,
   "outputs": [],
   "source": [
    "hr_patch_size = 128\n",
    "lr_patch_size = 32\n",
    "\n",
    "hr_path = \"../data/DIV2K_HR/DIV2K_train_HR_sub\"\n",
    "lr_path = \"../data/DIV2K_HR/DIV2K_train_LR_bicubic/X4_sub\"\n",
    "\n",
    "hr_transform = transforms.Compose([\n",
    "    transforms.RandomCrop((hr_patch_size, hr_patch_size)),\n",
    "    transforms.RandomHorizontalFlip(),\n",
    "    transforms.RandomRotation(degrees=90),\n",
    "    transforms.ToTensor()\n",
    "])\n",
    "lr_transform = transforms.Compose([\n",
    "    transforms.RandomCrop((lr_patch_size, lr_patch_size)),\n",
    "    transforms.RandomHorizontalFlip(),\n",
    "    transforms.RandomRotation(degrees=90),\n",
    "    transforms.ToTensor()\n",
    "])\n",
    "\n",
    "div_dataset = DIV2KDataset(hr_path, lr_path, hr_transform, lr_transform)"
   ],
   "metadata": {
    "collapsed": false,
    "pycharm": {
     "name": "#%%\n"
    }
   }
  },
  {
   "cell_type": "code",
   "execution_count": 6,
   "outputs": [],
   "source": [
    "train_data = DataLoader(div_dataset, batch_size=4, shuffle=True, num_workers=2)"
   ],
   "metadata": {
    "collapsed": false,
    "pycharm": {
     "name": "#%%\n"
    }
   }
  },
  {
   "cell_type": "code",
   "execution_count": 8,
   "outputs": [
    {
     "name": "stdout",
     "output_type": "stream",
     "text": [
      "(128, 128, 3) (128, 128, 3)\n",
      "(128, 128, 3) (128, 128, 3)\n",
      "(128, 128, 3) (128, 128, 3)\n",
      "(128, 128, 3) (128, 128, 3)\n",
      "9.734262457391585\n",
      "(128, 128, 3) (128, 128, 3)\n",
      "(128, 128, 3) (128, 128, 3)\n",
      "(128, 128, 3) (128, 128, 3)\n",
      "(128, 128, 3) (128, 128, 3)\n",
      "9.55807822069946\n",
      "(128, 128, 3) (128, 128, 3)\n",
      "(128, 128, 3) (128, 128, 3)\n",
      "(128, 128, 3) (128, 128, 3)\n",
      "(128, 128, 3) (128, 128, 3)\n",
      "8.731809275096342\n"
     ]
    }
   ],
   "source": [
    "from utils.util import psnr_score\n",
    "from skimage.metrics import peak_signal_noise_ratio\n",
    "for i, (hr_data, lr_data) in enumerate(train_data):\n",
    "    if i == 3:\n",
    "        break\n",
    "    fake_hr = rrdb_net(lr_data)\n",
    "    psnr_sum = 0\n",
    "    for hr, fake in zip(hr_data, fake_hr):\n",
    "        # print(hr.shape, fake.shape)\n",
    "        hr_img = hr.permute(1, 2, 0).detach().numpy()\n",
    "        fake_img = fake.permute(1, 2, 0).detach().numpy()\n",
    "        psnr_sum += psnr_score(hr_img, fake_img)\n",
    "\n",
    "    print(psnr_sum/hr_data.shape[0])\n",
    "    # print(peak_signal_noise_ratio(hr_img, fake_img))\n"
   ],
   "metadata": {
    "collapsed": false,
    "pycharm": {
     "name": "#%%\n"
    }
   }
  },
  {
   "cell_type": "code",
   "execution_count": 11,
   "outputs": [
    {
     "name": "stdout",
     "output_type": "stream",
     "text": [
      "0.2\n"
     ]
    }
   ],
   "source": [
    "print(2e-1)"
   ],
   "metadata": {
    "collapsed": false,
    "pycharm": {
     "name": "#%%\n"
    }
   }
  },
  {
   "cell_type": "code",
   "execution_count": 13,
   "outputs": [],
   "source": [
    "import glob\n",
    "import cv2\n",
    "import torch\n",
    "import numpy as np\n",
    "import os"
   ],
   "metadata": {
    "collapsed": false,
    "pycharm": {
     "name": "#%%\n"
    }
   }
  },
  {
   "cell_type": "code",
   "execution_count": 16,
   "outputs": [
    {
     "name": "stdout",
     "output_type": "stream",
     "text": [
      "0801x4\n",
      "0802x4\n",
      "0803x4\n"
     ]
    }
   ],
   "source": [
    "\n",
    "test_path = \"../data/DIV2K_HR/DIV2K_valid_LR_bicubic/X4/*\"\n",
    "\n",
    "for i, path in enumerate(glob.glob(test_path)):\n",
    "    if i == 3:\n",
    "        break\n",
    "    print(os.path.basename(path).split(\".\")[0])\n",
    "    # img = cv2.imread(path, cv2.IMREAD_COLOR)\n",
    "    # img = img * 1.0 / 255\n",
    "    # # 先将通道转为RGB，再将维度转为[c, h, w]\n",
    "    # img = torch.from_numpy(np.transpose(img[:, :, [2, 1, 0]], (2, 0, 1))).float()\n",
    "    # print(img.shape)\n",
    "    # img_LR = img.unsqueeze(0)\n",
    "    # print(img_LR.shape)"
   ],
   "metadata": {
    "collapsed": false,
    "pycharm": {
     "name": "#%%\n"
    }
   }
  },
  {
   "cell_type": "code",
   "execution_count": null,
   "outputs": [],
   "source": [],
   "metadata": {
    "collapsed": false,
    "pycharm": {
     "name": "#%%\n"
    }
   }
  }
 ],
 "metadata": {
  "kernelspec": {
   "display_name": "Python 3",
   "language": "python",
   "name": "python3"
  },
  "language_info": {
   "codemirror_mode": {
    "name": "ipython",
    "version": 2
   },
   "file_extension": ".py",
   "mimetype": "text/x-python",
   "name": "python",
   "nbconvert_exporter": "python",
   "pygments_lexer": "ipython2",
   "version": "2.7.6"
  }
 },
 "nbformat": 4,
 "nbformat_minor": 0
}