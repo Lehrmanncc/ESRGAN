{
 "cells": [
  {
   "cell_type": "code",
   "execution_count": 12,
   "outputs": [],
   "source": [
    "import torch\n",
    "from torch import nn\n",
    "from torch.nn import functional as F"
   ],
   "metadata": {
    "collapsed": false,
    "pycharm": {
     "name": "#%%\n"
    }
   }
  },
  {
   "cell_type": "code",
   "execution_count": 3,
   "outputs": [],
   "source": [
    "class DenseBlock(nn.Module):\n",
    "    def __init__(self, feature_num=64, growth_num=32, scale=0.2, gaussian_noise=False):\n",
    "        super(DenseBlock, self).__init__()\n",
    "        self.scale = scale\n",
    "        self.gaussian_noise = gaussian_noise\n",
    "        self.lrelu = nn.LeakyReLU(2e-2, inplace=True)\n",
    "\n",
    "        self.conv1 = nn.Conv2d(feature_num, growth_num, 3, 1, 1)\n",
    "        self.conv2 = nn.Conv2d(feature_num+growth_num*1, growth_num, 3, 1, 1)\n",
    "        self.conv3 = nn.Conv2d(feature_num+growth_num*2, growth_num, 3, 1, 1)\n",
    "        self.conv4 = nn.Conv2d(feature_num+growth_num*3, growth_num, 3, 1, 1)\n",
    "        self.conv5 = nn.Conv2d(feature_num+growth_num*4, feature_num, 3, 1, 1)\n",
    "\n",
    "    def forward(self, x):\n",
    "        y1 = self.lrelu(self.conv1(x))\n",
    "        y2 = self.lrelu(self.conv2(torch.cat((y1, x), dim=1)))\n",
    "        y3 = self.lrelu(self.conv3(torch.cat((y2, y1, x), dim=1)))\n",
    "        y4 = self.lrelu(self.conv4(torch.cat((y3, y2, y1, x), dim=1)))\n",
    "        y5 = self.conv5(torch.cat((y4, y3, y2, y1, x), dim=1))\n",
    "\n",
    "        return x + self.scale * y5"
   ],
   "metadata": {
    "collapsed": false,
    "pycharm": {
     "name": "#%%\n"
    }
   }
  },
  {
   "cell_type": "code",
   "execution_count": 4,
   "outputs": [],
   "source": [
    "class RRDB(nn.Module):\n",
    "    def __init__(self, feature_num=64, growth_num=32, scale=0.2, gaussian_noise=False):\n",
    "        super(RRDB, self).__init__()\n",
    "        self.scale = scale\n",
    "        self.dense_block1 = DenseBlock(feature_num, growth_num, scale, gaussian_noise)\n",
    "        self.dense_block2 = DenseBlock(feature_num, growth_num, scale, gaussian_noise)\n",
    "        self.dense_block3 = DenseBlock(feature_num, growth_num, scale, gaussian_noise)\n",
    "\n",
    "    def forward(self, x):\n",
    "        y = self.dense_block1(x)\n",
    "        y = self.dense_block2(y)\n",
    "        y = self.dense_block3(y)\n",
    "        return x + self.scale * y"
   ],
   "metadata": {
    "collapsed": false,
    "pycharm": {
     "name": "#%%\n"
    }
   }
  },
  {
   "cell_type": "code",
   "execution_count": 5,
   "outputs": [],
   "source": [
    "def connect_block(block, block_num, **kwargs):\n",
    "    net = []\n",
    "    for _ in range(block_num):\n",
    "        net.append(block(**kwargs))\n",
    "    return nn.Sequential(*net)"
   ],
   "metadata": {
    "collapsed": false,
    "pycharm": {
     "name": "#%%\n"
    }
   }
  },
  {
   "cell_type": "code",
   "execution_count": 7,
   "outputs": [],
   "source": [
    "class UpSample(nn.Module):\n",
    "    def __init__(self, in_channel, upscale):\n",
    "        super(UpSample, self).__init__()\n",
    "        self.conv = nn.Conv2d(in_channel, (upscale**2)*in_channel, 3, 1, 1)\n",
    "        self.pix = nn.PixelShuffle(upscale)\n",
    "        self.prelu = nn.PReLU()\n",
    "\n",
    "    def forward(self, x):\n",
    "        return self.prelu(self.pix(self.conv(x)))\n"
   ],
   "metadata": {
    "collapsed": false,
    "pycharm": {
     "name": "#%%\n"
    }
   }
  },
  {
   "cell_type": "code",
   "execution_count": 26,
   "outputs": [],
   "source": [
    "class RRDB_net(nn.Module):\n",
    "    def __init__(self, in_channel=3, feature_num=64, growth_num=32, block_num=23, scale=0.2, gaussian_noise=False):\n",
    "        super(RRDB_net, self).__init__()\n",
    "        self.block_kwargs = {\"feature_num\":feature_num,\n",
    "                             \"growth_num\": growth_num,\n",
    "                             \"scale\": scale,\n",
    "                             \"gaussian_noise\":gaussian_noise}\n",
    "        self.conv1 = nn.Conv2d(in_channel, feature_num, 3, 1, 1)\n",
    "        self.RRDBs = connect_block(RRDB, block_num, **self.block_kwargs)\n",
    "        self.conv2 = nn.Conv2d(feature_num, feature_num, 3, 1, 1)\n",
    "        self.up1 = UpSample(feature_num, upscale=2)\n",
    "        self.up2 = UpSample(feature_num, upscale=2)\n",
    "        self.conv3 = nn.Conv2d(feature_num, feature_num, 3, 1, 1)\n",
    "        self.conv4 = nn.Conv2d(feature_num, in_channel, 3, 1, 1)\n",
    "\n",
    "\n",
    "    def forward(self, x):\n",
    "        out1 = self.conv1(x)\n",
    "        print(out1.shape)\n",
    "        out2 = self.RRDBs(out1)\n",
    "        print(out2.shape)\n",
    "        out3 = self.conv2(out2)\n",
    "        print(out3.shape)\n",
    "        out4 = self.up(out3)\n",
    "\n",
    "\n",
    "\n"
   ],
   "metadata": {
    "collapsed": false,
    "pycharm": {
     "name": "#%%\n"
    }
   }
  },
  {
   "cell_type": "code",
   "execution_count": 27,
   "outputs": [],
   "source": [
    "gen_net = RRDB_net()"
   ],
   "metadata": {
    "collapsed": false,
    "pycharm": {
     "name": "#%%\n"
    }
   }
  },
  {
   "cell_type": "code",
   "execution_count": null,
   "outputs": [],
   "source": [
    "class RaDiscriminator(nn.Module):\n",
    "    def __init__(self, in_channel, feature_num):\n",
    "        super(RaDiscriminator, self).__init__()\n",
    "        self.conv1 = nn.Conv2d(in_channel, feature_num, 3, 1)\n",
    "\n",
    "        self.conv2 = nn.Conv2d(feature_num, feature_num, 3, 2)\n",
    "        self.bn1 = nn.BatchNorm2d(feature_num)\n",
    "\n",
    "        self.conv3 = nn.Conv2d(feature_num, feature_num*2, 3, 1)\n",
    "        self.bn2 = nn.BatchNorm2d(feature_num*2)\n",
    "\n",
    "        self.conv4 = nn.Conv2d(feature_num*2, feature_num*2, 3, 2)\n",
    "        self.bn3 = nn.BatchNorm2d(feature_num*2)\n",
    "\n",
    "        self.conv5 = nn.Conv2d(feature_num*2, feature_num*4, 3, 1)\n",
    "        self.bn4 = nn.BatchNorm2d(feature_num*4)\n",
    "\n",
    "        self.conv6 = nn.Conv2d(feature_num*4, feature_num*4, 3, 2)\n",
    "        self.bn5 = nn.BatchNorm2d(feature_num*4)\n",
    "\n",
    "        self.conv7 = nn.Conv2d(feature_num*4, feature_num*8, 3, 1)\n",
    "        self.bn6 = nn.BatchNorm2d(feature_num*8)\n",
    "\n",
    "        self.conv8 = nn.Conv2d(feature_num*8, feature_num*8, 3, 2)\n",
    "        self.bn7 = nn.BatchNorm2d(feature_num*8)\n",
    "\n",
    "        self.conv9 = nn.Conv2d(feature_num*8, 1, 1, 1)\n",
    "\n",
    "        self.lrelu = nn.LeakyReLU(negative_slope=2e-1, inplace=True)\n",
    "\n",
    "    def forward(self, x):\n",
    "        x = self.conv1(x)\n",
    "        x = self.lrelu(self.bn1(self.conv2(x)))\n",
    "        x = self.lrelu(self.bn2(self.conv3(x)))\n",
    "        x = self.lrelu(self.bn3(self.conv4(x)))\n",
    "        x = self.lrelu(self.bn4(self.conv5(x)))\n",
    "        x = self.lrelu(self.bn5(self.conv6(x)))\n",
    "        x = self.lrelu(self.bn6(self.conv7(x)))\n",
    "        x = self.lrelu(self.bn7(self.conv8(x)))\n",
    "        x = self.conv9(x)\n",
    "        x = F.avg_pool2d(x, x.shape[2:])\n",
    "        return x.view(x.shape[0], -1)\n",
    "        # print(x.shape)"
   ],
   "metadata": {
    "collapsed": false,
    "pycharm": {
     "name": "#%%\n"
    }
   }
  },
  {
   "cell_type": "code",
   "execution_count": null,
   "outputs": [],
   "source": [
    "rd_net = RaDiscriminator(3, 64)\n",
    "data = torch.zeros((16, 3, 128, 128))"
   ],
   "metadata": {
    "collapsed": false,
    "pycharm": {
     "name": "#%%\n"
    }
   }
  },
  {
   "cell_type": "code",
   "execution_count": null,
   "outputs": [],
   "source": [
    "y = rd_net(data)"
   ],
   "metadata": {
    "collapsed": false,
    "pycharm": {
     "name": "#%%\n"
    }
   }
  },
  {
   "cell_type": "code",
   "execution_count": null,
   "outputs": [],
   "source": [
    "y.shape"
   ],
   "metadata": {
    "collapsed": false,
    "pycharm": {
     "name": "#%%\n"
    }
   }
  },
  {
   "cell_type": "code",
   "execution_count": null,
   "outputs": [],
   "source": [],
   "metadata": {
    "collapsed": false,
    "pycharm": {
     "name": "#%%\n"
    }
   }
  },
  {
   "cell_type": "code",
   "execution_count": null,
   "outputs": [],
   "source": [
    "rd_net = RaDiscriminator(3, 64)\n",
    "data = torch.zeros((16, 3, 128, 128))"
   ],
   "metadata": {
    "collapsed": false,
    "pycharm": {
     "name": "#%%\n"
    }
   }
  },
  {
   "cell_type": "code",
   "execution_count": null,
   "outputs": [],
   "source": [
    "y = rd_net(data)"
   ],
   "metadata": {
    "collapsed": false,
    "pycharm": {
     "name": "#%%\n"
    }
   }
  },
  {
   "cell_type": "code",
   "execution_count": null,
   "outputs": [],
   "source": [
    "y.shape"
   ],
   "metadata": {
    "collapsed": false,
    "pycharm": {
     "name": "#%%\n"
    }
   }
  },
  {
   "cell_type": "code",
   "execution_count": 16,
   "outputs": [],
   "source": [],
   "metadata": {
    "collapsed": false,
    "pycharm": {
     "name": "#%%\n"
    }
   }
  },
  {
   "cell_type": "code",
   "execution_count": null,
   "outputs": [],
   "source": [
    "rd_net = RaDiscriminator(3, 64)\n",
    "data = torch.zeros((16, 3, 128, 128))"
   ],
   "metadata": {
    "collapsed": false,
    "pycharm": {
     "name": "#%%\n"
    }
   }
  },
  {
   "cell_type": "code",
   "execution_count": null,
   "outputs": [],
   "source": [
    "y = rd_net(data)"
   ],
   "metadata": {
    "collapsed": false,
    "pycharm": {
     "name": "#%%\n"
    }
   }
  },
  {
   "cell_type": "code",
   "execution_count": null,
   "outputs": [],
   "source": [
    "y.shape"
   ],
   "metadata": {
    "collapsed": false,
    "pycharm": {
     "name": "#%%\n"
    }
   }
  },
  {
   "cell_type": "code",
   "execution_count": null,
   "outputs": [],
   "source": [],
   "metadata": {
    "collapsed": false,
    "pycharm": {
     "name": "#%%\n"
    }
   }
  },
  {
   "cell_type": "code",
   "execution_count": 17,
   "outputs": [],
   "source": [
    "rd_net = RaDiscriminator(3, 64)\n",
    "data = torch.zeros((16, 3, 128, 128))"
   ],
   "metadata": {
    "collapsed": false,
    "pycharm": {
     "name": "#%%\n"
    }
   }
  },
  {
   "cell_type": "code",
   "execution_count": 18,
   "outputs": [],
   "source": [
    "y = rd_net(data)"
   ],
   "metadata": {
    "collapsed": false,
    "pycharm": {
     "name": "#%%\n"
    }
   }
  },
  {
   "cell_type": "code",
   "execution_count": 19,
   "outputs": [
    {
     "data": {
      "text/plain": "torch.Size([16, 1])"
     },
     "execution_count": 19,
     "metadata": {},
     "output_type": "execute_result"
    }
   ],
   "source": [
    "y.shape"
   ],
   "metadata": {
    "collapsed": false,
    "pycharm": {
     "name": "#%%\n"
    }
   }
  },
  {
   "cell_type": "code",
   "execution_count": null,
   "outputs": [],
   "source": [],
   "metadata": {
    "collapsed": false,
    "pycharm": {
     "name": "#%%\n"
    }
   }
  }
 ],
 "metadata": {
  "kernelspec": {
   "display_name": "Python 3",
   "language": "python",
   "name": "python3"
  },
  "language_info": {
   "codemirror_mode": {
    "name": "ipython",
    "version": 2
   },
   "file_extension": ".py",
   "mimetype": "text/x-python",
   "name": "python",
   "nbconvert_exporter": "python",
   "pygments_lexer": "ipython2",
   "version": "2.7.6"
  }
 },
 "nbformat": 4,
 "nbformat_minor": 0
}