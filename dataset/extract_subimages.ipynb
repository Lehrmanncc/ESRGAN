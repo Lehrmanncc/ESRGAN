{
 "cells": [
  {
   "cell_type": "code",
   "execution_count": 1,
   "outputs": [],
   "source": [
    "import numpy as np\n",
    "import os\n",
    "import cv2\n",
    "from tqdm import tqdm\n",
    "from multiprocessing import Pool\n",
    "# jupyter无法使用多进程！"
   ],
   "metadata": {
    "collapsed": false,
    "pycharm": {
     "name": "#%%\n"
    }
   }
  },
  {
   "cell_type": "code",
   "execution_count": 2,
   "outputs": [],
   "source": [
    "input_path = \"../../data/DIV2K_HR/DIV2K_train_LR_bicubic/X4\""
   ],
   "metadata": {
    "collapsed": false,
    "pycharm": {
     "name": "#%%\n"
    }
   }
  },
  {
   "cell_type": "code",
   "execution_count": 3,
   "outputs": [],
   "source": [
    "img_name = os.listdir(input_path)"
   ],
   "metadata": {
    "collapsed": false,
    "pycharm": {
     "name": "#%%\n"
    }
   }
  },
  {
   "cell_type": "code",
   "execution_count": 4,
   "outputs": [],
   "source": [
    "imgs_path_list = []\n",
    "for i, name in enumerate(img_name):\n",
    "    str1 = os.path.join(input_path, name)\n",
    "    imgs_path_list.append(str1)"
   ],
   "metadata": {
    "collapsed": false,
    "pycharm": {
     "name": "#%%\n"
    }
   }
  },
  {
   "cell_type": "code",
   "execution_count": 15,
   "outputs": [],
   "source": [
    "def img_print(img_path):\n",
    "    with open(\"./test.txt\", \"w\") as f:\n",
    "        f.write(img_path)\n",
    "    process_info = f'Processing {img_path} ...'\n",
    "    return process_info"
   ],
   "metadata": {
    "collapsed": false,
    "pycharm": {
     "name": "#%%\n"
    }
   }
  },
  {
   "cell_type": "code",
   "execution_count": 16,
   "outputs": [
    {
     "name": "stderr",
     "output_type": "stream",
     "text": [
      "extract:   0%|          | 0/800 [05:30<?, ?image/s]\n"
     ]
    }
   ],
   "source": [
    "pbar = tqdm(total=len(imgs_path_list), unit=\"image\", desc=\"extract\")"
   ],
   "metadata": {
    "collapsed": false,
    "pycharm": {
     "name": "#%%\n"
    }
   }
  },
  {
   "cell_type": "code",
   "execution_count": null,
   "outputs": [],
   "source": [
    "pbar.update(1)"
   ],
   "metadata": {
    "collapsed": false,
    "pycharm": {
     "name": "#%%\n",
     "is_executing": true
    }
   }
  },
  {
   "cell_type": "code",
   "execution_count": 17,
   "outputs": [],
   "source": [
    "pool = Pool(20)"
   ],
   "metadata": {
    "collapsed": false,
    "pycharm": {
     "name": "#%%\n"
    }
   }
  },
  {
   "cell_type": "code",
   "execution_count": null,
   "outputs": [],
   "source": [
    "for path in imgs_path_list:\n",
    "    pool.apply_async(img_print, args=path, callback=lambda arg:pbar.update(1))\n",
    "pool.close()\n",
    "pool.join()\n",
    "pbar.close()"
   ],
   "metadata": {
    "collapsed": false,
    "pycharm": {
     "name": "#%%\n",
     "is_executing": true
    }
   }
  },
  {
   "cell_type": "code",
   "execution_count": 6,
   "outputs": [],
   "source": [
    "name = os.path.basename(imgs_path_list[0])"
   ],
   "metadata": {
    "collapsed": false,
    "pycharm": {
     "name": "#%%\n"
    }
   }
  },
  {
   "cell_type": "code",
   "execution_count": 7,
   "outputs": [
    {
     "data": {
      "text/plain": "('0001x4', '.png')"
     },
     "execution_count": 7,
     "metadata": {},
     "output_type": "execute_result"
    }
   ],
   "source": [
    "os.path.splitext(name)"
   ],
   "metadata": {
    "collapsed": false,
    "pycharm": {
     "name": "#%%\n"
    }
   }
  },
  {
   "cell_type": "code",
   "execution_count": 9,
   "outputs": [],
   "source": [
    "img_name, suffix = name.split(\".\")"
   ],
   "metadata": {
    "collapsed": false,
    "pycharm": {
     "name": "#%%\n"
    }
   }
  },
  {
   "cell_type": "code",
   "execution_count": 10,
   "outputs": [],
   "source": [
    "img_name = img_name.replace(\"x2\", \"\").replace(\"x3\", \"\").replace(\"x4\", \"\")"
   ],
   "metadata": {
    "collapsed": false,
    "pycharm": {
     "name": "#%%\n"
    }
   }
  },
  {
   "cell_type": "code",
   "execution_count": 14,
   "outputs": [],
   "source": [
    "# -1表示读入原图像，即若是彩色图像读入便为彩色图像。若为灰度图读入便为灰度图\n",
    "img = cv2.imread(imgs_path_list[0], -1)\n",
    "h, w, c = img.shape"
   ],
   "metadata": {
    "collapsed": false,
    "pycharm": {
     "name": "#%%\n"
    }
   }
  },
  {
   "cell_type": "code",
   "execution_count": 15,
   "outputs": [],
   "source": [
    "crop_size = 120\n",
    "step = 60"
   ],
   "metadata": {
    "collapsed": false,
    "pycharm": {
     "name": "#%%\n"
    }
   }
  },
  {
   "cell_type": "code",
   "execution_count": 19,
   "outputs": [],
   "source": [
    "h_sub_point = np.arange(0, h - crop_size + 1, step)\n",
    "w_sub_point = np.arange(0, w- crop_size + 1, step)"
   ],
   "metadata": {
    "collapsed": false,
    "pycharm": {
     "name": "#%%\n"
    }
   }
  },
  {
   "cell_type": "code",
   "execution_count": 20,
   "outputs": [],
   "source": [
    "# 若最后分割起始点小于h-crop_size的长度，则加入位于h-crop_size处的分割起始点\n",
    "if h - (h_sub_point[-1] + crop_size) > 0:\n",
    "    h_sub_point = np.append(h_sub_point, h - crop_size)\n",
    "if w - (w_sub_point[-1] + crop_size) > 0:\n",
    "    w_sub_point = np.append(w_sub_point, w - crop_size)\n"
   ],
   "metadata": {
    "collapsed": false,
    "pycharm": {
     "name": "#%%\n"
    }
   }
  },
  {
   "cell_type": "code",
   "execution_count": 22,
   "outputs": [],
   "source": [
    "index = 0\n",
    "for x in h_sub_point:\n",
    "    for y in w_sub_point:\n",
    "        index += 1\n",
    "        crop_img = img[x:x+crop_size, y:y+crop_size, :]\n",
    "        crop_img = np.ascontiguousarray(crop_img)\n",
    "        cv2.imwrite(os.path.join(\"./test_img\", \"{}_{}.{}\".format(img_name, index, suffix)), crop_img\n",
    "                    , [cv2.IMWRITE_PNG_COMPRESSION, 3])"
   ],
   "metadata": {
    "collapsed": false,
    "pycharm": {
     "name": "#%%\n"
    }
   }
  },
  {
   "cell_type": "code",
   "execution_count": null,
   "outputs": [],
   "source": [],
   "metadata": {
    "collapsed": false,
    "pycharm": {
     "name": "#%%\n"
    }
   }
  }
 ],
 "metadata": {
  "kernelspec": {
   "display_name": "Python 3",
   "language": "python",
   "name": "python3"
  },
  "language_info": {
   "codemirror_mode": {
    "name": "ipython",
    "version": 2
   },
   "file_extension": ".py",
   "mimetype": "text/x-python",
   "name": "python",
   "nbconvert_exporter": "python",
   "pygments_lexer": "ipython2",
   "version": "2.7.6"
  }
 },
 "nbformat": 4,
 "nbformat_minor": 0
}